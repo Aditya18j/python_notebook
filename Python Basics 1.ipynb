{
 "cells": [
  {
   "attachments": {},
   "cell_type": "markdown",
   "metadata": {},
   "source": [
    "# Python Basics\n",
    "## Guiding Principle of Python's Design"
   ]
  },
  {
   "cell_type": "code",
   "execution_count": 1,
   "metadata": {},
   "outputs": [
    {
     "name": "stdout",
     "output_type": "stream",
     "text": [
      "The Zen of Python, by Tim Peters\n",
      "\n",
      "Beautiful is better than ugly.\n",
      "Explicit is better than implicit.\n",
      "Simple is better than complex.\n",
      "Complex is better than complicated.\n",
      "Flat is better than nested.\n",
      "Sparse is better than dense.\n",
      "Readability counts.\n",
      "Special cases aren't special enough to break the rules.\n",
      "Although practicality beats purity.\n",
      "Errors should never pass silently.\n",
      "Unless explicitly silenced.\n",
      "In the face of ambiguity, refuse the temptation to guess.\n",
      "There should be one-- and preferably only one --obvious way to do it.\n",
      "Although that way may not be obvious at first unless you're Dutch.\n",
      "Now is better than never.\n",
      "Although never is often better than *right* now.\n",
      "If the implementation is hard to explain, it's a bad idea.\n",
      "If the implementation is easy to explain, it may be a good idea.\n",
      "Namespaces are one honking great idea -- let's do more of those!\n"
     ]
    }
   ],
   "source": [
    "import this"
   ]
  },
  {
   "attachments": {},
   "cell_type": "markdown",
   "metadata": {},
   "source": [
    "## 1. Variable Assignment and Basic Data Types\n",
    "Variable naming rules: \n",
    "1. Variable names are case sensitive\n",
    "2. Variable must start with a character or underscore\n",
    "3. Variable names can only contain alphanumeric characters and underscores\n",
    "4. Variable name cannot be a python keyword\n",
    "\n",
    "- ### Integers"
   ]
  },
  {
   "cell_type": "code",
   "execution_count": 2,
   "metadata": {},
   "outputs": [
    {
     "name": "stdout",
     "output_type": "stream",
     "text": [
      "0 1 2\n"
     ]
    }
   ],
   "source": [
    "var_1 = 0\n",
    "var_2 = 1\n",
    "var_3 = 2\n",
    "print(var_1, var_2, var_3)"
   ]
  },
  {
   "attachments": {},
   "cell_type": "markdown",
   "metadata": {},
   "source": [
    "- ### Strings"
   ]
  },
  {
   "cell_type": "code",
   "execution_count": 60,
   "metadata": {},
   "outputs": [
    {
     "name": "stdout",
     "output_type": "stream",
     "text": [
      "Aditya Jain\n",
      "QA from 2021\n"
     ]
    }
   ],
   "source": [
    "string_1 = 'Aditya'\n",
    "string_2 = \"Jain\"\n",
    "string_3 = \"QA from 2021\"\n",
    "print(string_1, string_2)\n",
    "print(string_3)"
   ]
  },
  {
   "attachments": {},
   "cell_type": "markdown",
   "metadata": {},
   "source": [
    "- ### Float"
   ]
  },
  {
   "cell_type": "code",
   "execution_count": 7,
   "metadata": {},
   "outputs": [
    {
     "name": "stdout",
     "output_type": "stream",
     "text": [
      "2.34 3.14\n",
      "5.0\n"
     ]
    }
   ],
   "source": [
    "float_1 = 2.34\n",
    "float_2 = 5.000\n",
    "float_3 = 3.14\n",
    "print(float_1, float_3)\n",
    "print(float_2)"
   ]
  },
  {
   "attachments": {},
   "cell_type": "markdown",
   "metadata": {},
   "source": [
    "- ### Booleans"
   ]
  },
  {
   "cell_type": "code",
   "execution_count": 8,
   "metadata": {},
   "outputs": [
    {
     "name": "stdout",
     "output_type": "stream",
     "text": [
      "True False\n"
     ]
    }
   ],
   "source": [
    "true_bool = True\n",
    "false_bool = False\n",
    "print(true_bool, false_bool)"
   ]
  },
  {
   "attachments": {},
   "cell_type": "markdown",
   "metadata": {},
   "source": [
    "- ### Multiline Assignment"
   ]
  },
  {
   "cell_type": "code",
   "execution_count": 15,
   "metadata": {},
   "outputs": [
    {
     "name": "stdout",
     "output_type": "stream",
     "text": [
      "1 Aditya Jain 4.33\n"
     ]
    }
   ],
   "source": [
    "var_1, string_1, float_1 = 1, \"Aditya Jain\", 4.33\n",
    "print(var_1, string_1, float_1)"
   ]
  },
  {
   "cell_type": "code",
   "execution_count": 16,
   "metadata": {},
   "outputs": [
    {
     "name": "stdout",
     "output_type": "stream",
     "text": [
      "1 Aditya Jain 4.33\n",
      "2 || QA--UPSKILLING || 2.44\n"
     ]
    }
   ],
   "source": [
    "print(var_1, string_1, float_1)\n",
    "var_1, string_1, float_1 = 2, \"|| QA--UPSKILLING ||\", 2.44\n",
    "print(var_1, string_1, float_1)"
   ]
  },
  {
   "attachments": {},
   "cell_type": "markdown",
   "metadata": {},
   "source": [
    "## 2. Comments"
   ]
  },
  {
   "cell_type": "code",
   "execution_count": 22,
   "metadata": {},
   "outputs": [
    {
     "name": "stdout",
     "output_type": "stream",
     "text": [
      "9\n"
     ]
    },
    {
     "data": {
      "text/plain": [
       "'\\ntriple interveted comma\\nMultiLine Comment\\nfor Code Comment\\n'"
      ]
     },
     "execution_count": 22,
     "metadata": {},
     "output_type": "execute_result"
    }
   ],
   "source": [
    "# Comment for Code to understand\n",
    "change_var = 9\n",
    "# change_var = 3\n",
    "print(change_var) \n",
    "\n",
    "\"\"\"\n",
    "triple interveted comma\n",
    "MultiLine Comment\n",
    "for Code Comment\n",
    "\"\"\"\n",
    "\n"
   ]
  },
  {
   "attachments": {},
   "cell_type": "markdown",
   "metadata": {},
   "source": [
    "## 3. Python `type()` function"
   ]
  },
  {
   "cell_type": "code",
   "execution_count": 24,
   "metadata": {},
   "outputs": [
    {
     "name": "stdout",
     "output_type": "stream",
     "text": [
      "<class 'int'>\n",
      "<class 'str'>\n",
      "<class 'float'>\n",
      "<class 'bool'>\n"
     ]
    }
   ],
   "source": [
    "print(type(var_1))\n",
    "print(type(string_1))\n",
    "print(type(float_1))\n",
    "print(type(true_bool))"
   ]
  },
  {
   "attachments": {},
   "cell_type": "markdown",
   "metadata": {},
   "source": [
    "## 4. Type Casting"
   ]
  },
  {
   "cell_type": "code",
   "execution_count": 26,
   "metadata": {},
   "outputs": [
    {
     "name": "stdout",
     "output_type": "stream",
     "text": [
      "46\n",
      "<class 'str'>\n",
      "45\n"
     ]
    }
   ],
   "source": [
    "var_string = \"45\"\n",
    "var_int = int(var_string)\n",
    "print(var_int + 1)\n",
    "var_new_string = str(var_int)\n",
    "print(type(var_new_string))\n",
    "print(var_new_string)"
   ]
  },
  {
   "attachments": {},
   "cell_type": "markdown",
   "metadata": {},
   "source": [
    "## 5. Strings"
   ]
  },
  {
   "attachments": {},
   "cell_type": "markdown",
   "metadata": {},
   "source": [
    "- ### Multiline Strings"
   ]
  },
  {
   "cell_type": "code",
   "execution_count": 29,
   "metadata": {},
   "outputs": [
    {
     "name": "stdout",
     "output_type": "stream",
     "text": [
      "this is a Multi Line\n",
      "String\n",
      "practicing for Up\n",
      "skilling !\n"
     ]
    }
   ],
   "source": [
    "multline_string = \"\"\"this is a Multi Line\n",
    "String\n",
    "practicing for Up\n",
    "skilling !\"\"\"\n",
    "print(multline_string)"
   ]
  },
  {
   "attachments": {},
   "cell_type": "markdown",
   "metadata": {},
   "source": [
    "- ### String Indexing"
   ]
  },
  {
   "cell_type": "code",
   "execution_count": 45,
   "metadata": {},
   "outputs": [
    {
     "name": "stdout",
     "output_type": "stream",
     "text": [
      "t M t\n",
      "! s\n",
      "his i\n",
      "this i\n",
      "this is a Multi Line\n",
      "String\n",
      "practicing for Up\n",
      "skilling !\n",
      "his is a Multi Line\n",
      "String\n",
      "practicing for Up\n",
      "skilling \n",
      "ti saMl\n"
     ]
    }
   ],
   "source": [
    "print(multline_string[0], multline_string[10], multline_string[13])\n",
    "print(multline_string[-1], multline_string[-10])\n",
    "\n",
    "print(multline_string[1:6])\n",
    "\n",
    "print(multline_string[:6])\n",
    "\n",
    "print(multline_string[0:])\n",
    "\n",
    "print(multline_string[1:-1])\n",
    "\n",
    "print(multline_string[:13:2])\n"
   ]
  },
  {
   "attachments": {},
   "cell_type": "markdown",
   "metadata": {},
   "source": [
    "- ### String functions `len(), lower(), strip(), replace()`"
   ]
  },
  {
   "cell_type": "code",
   "execution_count": 54,
   "metadata": {},
   "outputs": [
    {
     "name": "stdout",
     "output_type": "stream",
     "text": [
      "56\n",
      "Lower:  this is a multi line\n",
      "string\n",
      "practicing for up\n",
      "skilling !\n",
      "Upper:  THIS IS A MULTI LINE\n",
      "STRING\n",
      "PRACTICING FOR UP\n",
      "SKILLING !\n",
      "Older MultiLine:  this is a Multi Line\n",
      "String\n",
      "practicing for Up\n",
      "skilling !\n",
      "Replace:  this is a Multi Line\n",
      "String\n",
      "practicing for Up\n",
      "skilling ??\n"
     ]
    }
   ],
   "source": [
    "print(len(multline_string))\n",
    "print(\"Lower: \", multline_string.lower())\n",
    "print(\"Upper: \", multline_string.upper())\n",
    "\n",
    "print(\"Older MultiLine: \", multline_string)\n",
    "new_multi_string = multline_string.replace(\"!\", \"??\")\n",
    "print(\"Replace: \", new_multi_string)\n",
    "\n"
   ]
  },
  {
   "attachments": {},
   "cell_type": "markdown",
   "metadata": {},
   "source": [
    "- ### String Slicing"
   ]
  },
  {
   "cell_type": "code",
   "execution_count": 62,
   "metadata": {},
   "outputs": [
    {
     "name": "stdout",
     "output_type": "stream",
     "text": [
      "Aditya Jain\n",
      "Aditya with Jain\n"
     ]
    }
   ],
   "source": [
    "\n"
   ]
  },
  {
   "attachments": {},
   "cell_type": "markdown",
   "metadata": {},
   "source": [
    "- ### String Concatenation"
   ]
  },
  {
   "cell_type": "code",
   "execution_count": 63,
   "metadata": {},
   "outputs": [
    {
     "name": "stdout",
     "output_type": "stream",
     "text": [
      "Aditya Jain\n",
      "Aditya with Jain\n"
     ]
    }
   ],
   "source": [
    "print(string_1, string_2)\n",
    "conact_string = string_1 + \" with \" + string_2\n",
    "print(conact_string)"
   ]
  },
  {
   "attachments": {},
   "cell_type": "markdown",
   "metadata": {},
   "source": [
    "## 6. Comparison , Identity, Membership Operators\n",
    "`>=, ==, =<, in, not in, is, is not`"
   ]
  },
  {
   "cell_type": "code",
   "execution_count": 73,
   "metadata": {},
   "outputs": [
    {
     "name": "stdout",
     "output_type": "stream",
     "text": [
      "2 1 2\n",
      "False\n",
      "True\n",
      "False\n",
      "True\n",
      "False\n",
      "True\n",
      "False\n",
      "True\n"
     ]
    }
   ],
   "source": [
    "print(var_1, var_2, var_3)\n",
    "\n",
    "print(var_1 == var_2)\n",
    "print(var_1 >= var_2)\n",
    "print(var_1 <= var_2)\n",
    "print(var_1 > var_2)\n",
    "print(var_1 < var_2)\n",
    "print(var_1  != var_2)\n",
    "\n",
    "print(\"python\" == \"Python\")\n",
    "print(\"python\" == \"Python\".lower())"
   ]
  },
  {
   "cell_type": "code",
   "execution_count": 77,
   "metadata": {},
   "outputs": [
    {
     "name": "stdout",
     "output_type": "stream",
     "text": [
      "False\n",
      "True\n",
      "False\n",
      "True\n"
     ]
    }
   ],
   "source": [
    "# in and not in\n",
    "print(\"p\" in \"Python\")\n",
    "print(\"p\" in \"Python\".lower())\n",
    "\n",
    "print(\"1\" in \"Python\")\n",
    "print(\"e\" not in \"Python\")\n"
   ]
  },
  {
   "attachments": {},
   "cell_type": "markdown",
   "metadata": {},
   "source": [
    "## 7. Arithmetic and Assignment Operators"
   ]
  },
  {
   "cell_type": "code",
   "execution_count": 82,
   "metadata": {},
   "outputs": [
    {
     "name": "stdout",
     "output_type": "stream",
     "text": [
      "480 420 0 90.0 0\n",
      "3.3333333333333335\n",
      "3\n",
      "AdityaAdityaAditya\n"
     ]
    }
   ],
   "source": [
    "# +, -, *, /, %\n",
    "\n",
    "number = 450\n",
    "print(\n",
    "    number + 30,\n",
    "    number - 30,\n",
    "    number * 0,\n",
    "    number / 5,\n",
    "    number % 9\n",
    "    )\n",
    "\n",
    "print(30/9)\n",
    "print(30//9)\n",
    "\n",
    "#  String\n",
    "ex_string = \"Aditya\"\n",
    "print(\n",
    "    ex_string * 3\n",
    ")"
   ]
  },
  {
   "cell_type": "code",
   "execution_count": 89,
   "metadata": {},
   "outputs": [
    {
     "name": "stdout",
     "output_type": "stream",
     "text": [
      "12\n",
      "36\n",
      "12\n",
      "288\n",
      "12.0\n",
      "12.0\n",
      "AdityaJainJain\n",
      "AdityaJainJainJain\n",
      "AdityaJainJainJainAdityaJainJainJainAdityaJainJainJain\n"
     ]
    }
   ],
   "source": [
    "num_eg = 12\n",
    "print(num_eg)\n",
    "num_eg += 24\n",
    "print(num_eg)\n",
    "num_eg -= 24\n",
    "print(num_eg)\n",
    "num_eg *= 24\n",
    "print(num_eg)\n",
    "num_eg /= 24\n",
    "print(num_eg)\n",
    "num_eg %= 24\n",
    "print(num_eg)\n",
    "\n",
    "print(ex_string)\n",
    "ex_string += \"Jain\"\n",
    "print(ex_string)\n",
    "ex_string *= 3\n",
    "print(ex_string)\n",
    "\n"
   ]
  },
  {
   "attachments": {},
   "cell_type": "markdown",
   "metadata": {},
   "source": [
    "## 8. Lists\n",
    "- ### Assignment"
   ]
  },
  {
   "cell_type": "code",
   "execution_count": 92,
   "metadata": {},
   "outputs": [
    {
     "name": "stdout",
     "output_type": "stream",
     "text": [
      "1\n",
      "2\n"
     ]
    }
   ],
   "source": [
    "mylist = [1, 2, 3, 4]\n",
    "print(mylist[0])\n",
    "print(mylist[1])"
   ]
  },
  {
   "cell_type": "code",
   "execution_count": 93,
   "metadata": {},
   "outputs": [
    {
     "name": "stdout",
     "output_type": "stream",
     "text": [
      "[-1, 2, 3, 4]\n"
     ]
    }
   ],
   "source": [
    "mylist[0] = -1\n",
    "print(mylist)"
   ]
  },
  {
   "cell_type": "code",
   "execution_count": 95,
   "metadata": {},
   "outputs": [
    {
     "name": "stdout",
     "output_type": "stream",
     "text": [
      "['abc', 20, True]\n"
     ]
    }
   ],
   "source": [
    "typelist = [\"abc\", 20, True, 3.14, '48']\n",
    "print(typelist[0:3])"
   ]
  },
  {
   "cell_type": "code",
   "execution_count": 96,
   "metadata": {},
   "outputs": [
    {
     "name": "stdout",
     "output_type": "stream",
     "text": [
      "[0, 1, 2, 3, 4, 5, 6, 7, 8, 9, 10, 11, 12, 13, 14, 15, 16, 17, 18, 19]\n"
     ]
    }
   ],
   "source": [
    "num_list = list(range(20))\n",
    "print(num_list)"
   ]
  },
  {
   "attachments": {},
   "cell_type": "markdown",
   "metadata": {},
   "source": [
    "- ### List Index and Slicing"
   ]
  },
  {
   "cell_type": "code",
   "execution_count": 100,
   "metadata": {},
   "outputs": [
    {
     "name": "stdout",
     "output_type": "stream",
     "text": [
      "[0, 1, 2, 3, 4]\n",
      "[0, 1, 2, 3, 4, 5, 6, 7, 8, 9, 10, 11, 12, 13, 14, 15, 16, 17, 18, 19]\n",
      "[1, 3, 5, 7, 9, 11, 13, 15]\n"
     ]
    }
   ],
   "source": [
    "print(num_list[:5])\n",
    "print(num_list[:])\n",
    "print(num_list[1:16:2])\n"
   ]
  },
  {
   "cell_type": "code",
   "execution_count": 105,
   "metadata": {},
   "outputs": [
    {
     "name": "stdout",
     "output_type": "stream",
     "text": [
      "List 1:  [0, 1, 2, 3]\n",
      "List 2:  [0, 1, 2, 3]\n"
     ]
    }
   ],
   "source": [
    "list_1 = [0, 1, 2, 3]\n",
    "print(\"List 1: \", list_1)\n",
    "list_2 = list_1\n",
    "print(\"List 2: \", list_2)\n"
   ]
  },
  {
   "cell_type": "code",
   "execution_count": 106,
   "metadata": {},
   "outputs": [
    {
     "name": "stdout",
     "output_type": "stream",
     "text": [
      "List 1:  [9, 1, 2, 3]\n",
      "List 2:  [9, 1, 2, 3]\n"
     ]
    }
   ],
   "source": [
    "list_2[0] = 9\n",
    "print(\"List 1: \", list_1)\n",
    "print(\"List 2: \", list_2)\n"
   ]
  },
  {
   "cell_type": "code",
   "execution_count": null,
   "metadata": {},
   "outputs": [],
   "source": []
  },
  {
   "cell_type": "code",
   "execution_count": 113,
   "metadata": {},
   "outputs": [
    {
     "name": "stdout",
     "output_type": "stream",
     "text": [
      "['apple', 'orange', 'beer', 'India']\n",
      "['apple', 'orange', 'beer', 'India', 'All is Well']\n",
      "['apple', 'orange', 'mango', 'beer', 'India', 'All is Well']\n",
      "['apple', 'orange', 'mango', 'beer', 'India', 'All is Well', 'python', 'java']\n"
     ]
    }
   ],
   "source": [
    "fruits = ['apple', 'orange', 'beer', 'India']\n",
    "print(fruits)\n",
    "fruits.append('All is Well')\n",
    "print(fruits)\n",
    "fruits.insert(2, 'mango')\n",
    "print(fruits)\n",
    "fruits.extend(['python', 'java'])\n",
    "print(fruits)\n"
   ]
  },
  {
   "cell_type": "code",
   "execution_count": 115,
   "metadata": {},
   "outputs": [
    {
     "name": "stdout",
     "output_type": "stream",
     "text": [
      "[0, 1, 2, 3, 4, 5, 6, 7, 8, 9, 10, 11, 12, 13, 14, 15, 16, 17, 18, 19, 20, 21, 22, 23, 24, 25, 26, 27, 28, 29, 20, 21, 22, 23, 24, 25, 26, 27, 28, 29]\n"
     ]
    }
   ],
   "source": [
    "num_list.extend(range(20,30))\n",
    "print(num_list)"
   ]
  },
  {
   "cell_type": "code",
   "execution_count": 117,
   "metadata": {},
   "outputs": [
    {
     "name": "stdout",
     "output_type": "stream",
     "text": [
      "['cucmber', ['bottle ground'], 'Onion', 'Tomato']\n"
     ]
    }
   ],
   "source": [
    "vegetables = [\"cucmber\", \"Onion\", \"Tomato\"]\n",
    "vegetables.insert(1, [\"bottle ground\"])\n",
    "print(vegetables)"
   ]
  },
  {
   "cell_type": "code",
   "execution_count": 122,
   "metadata": {},
   "outputs": [
    {
     "name": "stdout",
     "output_type": "stream",
     "text": [
      "['apple', 'orange', 'mango', 'beer', 'India', 'All is Well', 'python', 'java']\n",
      "['apple', 'orange', 'beer', 'India', 'All is Well', 'python', 'java']\n"
     ]
    }
   ],
   "source": [
    "print(fruits)\n",
    "fruits.remove('mango')\n",
    "print(fruits)"
   ]
  },
  {
   "attachments": {},
   "cell_type": "markdown",
   "metadata": {},
   "source": [
    "- ### List functions `insert(), append(), extend(). remove(), sort()`"
   ]
  },
  {
   "cell_type": "code",
   "execution_count": null,
   "metadata": {},
   "outputs": [],
   "source": []
  },
  {
   "cell_type": "code",
   "execution_count": null,
   "metadata": {},
   "outputs": [],
   "source": []
  },
  {
   "attachments": {},
   "cell_type": "markdown",
   "metadata": {},
   "source": [
    "- ### Copying a list with `copy()`"
   ]
  },
  {
   "cell_type": "code",
   "execution_count": null,
   "metadata": {},
   "outputs": [],
   "source": []
  },
  {
   "cell_type": "code",
   "execution_count": null,
   "metadata": {},
   "outputs": [],
   "source": [
    "fruits_2 = fruits.copy()\n",
    "print(fruits_2)\n",
    "fruits_2[1] = \"Mango\"\n",
    "print(fruits)\n",
    "print(fruits_2)"
   ]
  },
  {
   "attachments": {},
   "cell_type": "markdown",
   "metadata": {},
   "source": [
    "## 9. Tuples\n",
    "- ### Assignment and Unpacking"
   ]
  },
  {
   "cell_type": "code",
   "execution_count": 1,
   "metadata": {},
   "outputs": [
    {
     "name": "stdout",
     "output_type": "stream",
     "text": [
      "(0, 1, 2)\n"
     ]
    }
   ],
   "source": [
    "tuple1 =(0, 1, 2)\n",
    "print(tuple1)"
   ]
  },
  {
   "cell_type": "code",
   "execution_count": 2,
   "metadata": {},
   "outputs": [
    {
     "ename": "TypeError",
     "evalue": "'tuple' object does not support item assignment",
     "output_type": "error",
     "traceback": [
      "\u001b[1;31m---------------------------------------------------------------------------\u001b[0m",
      "\u001b[1;31mTypeError\u001b[0m                                 Traceback (most recent call last)",
      "Cell \u001b[1;32mIn[2], line 2\u001b[0m\n\u001b[0;32m      1\u001b[0m tuple1[\u001b[38;5;241m0\u001b[39m]\n\u001b[1;32m----> 2\u001b[0m \u001b[43mtuple1\u001b[49m\u001b[43m[\u001b[49m\u001b[38;5;241;43m1\u001b[39;49m\u001b[43m]\u001b[49m \u001b[38;5;241m=\u001b[39m \u001b[38;5;241m5\u001b[39m\n",
      "\u001b[1;31mTypeError\u001b[0m: 'tuple' object does not support item assignment"
     ]
    }
   ],
   "source": [
    "tuple1[0]\n",
    "tuple1[1] = 5"
   ]
  },
  {
   "cell_type": "code",
   "execution_count": 3,
   "metadata": {},
   "outputs": [
    {
     "name": "stdout",
     "output_type": "stream",
     "text": [
      "(0, 1, 2, 3, 4)\n"
     ]
    }
   ],
   "source": [
    "num_tuple = tuple(range(5))\n",
    "print(num_tuple)\n"
   ]
  },
  {
   "cell_type": "code",
   "execution_count": 4,
   "metadata": {},
   "outputs": [
    {
     "name": "stdout",
     "output_type": "stream",
     "text": [
      "[0, 1, 2, 3, 4]\n"
     ]
    }
   ],
   "source": [
    "num_list_tuple = list(num_tuple)\n",
    "print(num_list_tuple)"
   ]
  },
  {
   "cell_type": "code",
   "execution_count": 5,
   "metadata": {},
   "outputs": [
    {
     "name": "stdout",
     "output_type": "stream",
     "text": [
      "(0, 1, 2, 3, 4)\n"
     ]
    }
   ],
   "source": [
    "num_list_tuple_2 = tuple(num_list_tuple)\n",
    "print(num_list_tuple_2)"
   ]
  },
  {
   "cell_type": "code",
   "execution_count": 6,
   "metadata": {},
   "outputs": [
    {
     "name": "stdout",
     "output_type": "stream",
     "text": [
      "1\n",
      "3\n"
     ]
    }
   ],
   "source": [
    "a,b = (1,3)\n",
    "print(a)\n",
    "print(b)\n"
   ]
  },
  {
   "cell_type": "code",
   "execution_count": 8,
   "metadata": {},
   "outputs": [
    {
     "ename": "ValueError",
     "evalue": "not enough values to unpack (expected 3, got 2)",
     "output_type": "error",
     "traceback": [
      "\u001b[1;31m---------------------------------------------------------------------------\u001b[0m",
      "\u001b[1;31mValueError\u001b[0m                                Traceback (most recent call last)",
      "Cell \u001b[1;32mIn[8], line 1\u001b[0m\n\u001b[1;32m----> 1\u001b[0m num1, num2, num3 \u001b[38;5;241m=\u001b[39m [\u001b[38;5;241m1\u001b[39m, \u001b[38;5;241m2\u001b[39m]\n\u001b[0;32m      2\u001b[0m \u001b[38;5;28mprint\u001b[39m(num1)\n\u001b[0;32m      3\u001b[0m \u001b[38;5;28mprint\u001b[39m(num2)\n",
      "\u001b[1;31mValueError\u001b[0m: not enough values to unpack (expected 3, got 2)"
     ]
    }
   ],
   "source": [
    "num1, num2, num3 = [1, 2]\n",
    "print(num1)\n",
    "print(num2)\n",
    "print(num3)"
   ]
  },
  {
   "cell_type": "code",
   "execution_count": 9,
   "metadata": {},
   "outputs": [
    {
     "ename": "ValueError",
     "evalue": "too many values to unpack (expected 3)",
     "output_type": "error",
     "traceback": [
      "\u001b[1;31m---------------------------------------------------------------------------\u001b[0m",
      "\u001b[1;31mValueError\u001b[0m                                Traceback (most recent call last)",
      "Cell \u001b[1;32mIn[9], line 1\u001b[0m\n\u001b[1;32m----> 1\u001b[0m num1, num2, num3 \u001b[38;5;241m=\u001b[39m [\u001b[38;5;241m1\u001b[39m, \u001b[38;5;241m2\u001b[39m, \u001b[38;5;241m3\u001b[39m, \u001b[38;5;241m4\u001b[39m, \u001b[38;5;241m5\u001b[39m]\n\u001b[0;32m      2\u001b[0m \u001b[38;5;28mprint\u001b[39m(num1)\n\u001b[0;32m      3\u001b[0m \u001b[38;5;28mprint\u001b[39m(num2)\n",
      "\u001b[1;31mValueError\u001b[0m: too many values to unpack (expected 3)"
     ]
    }
   ],
   "source": [
    "num1, num2, num3 = [1, 2, 3, 4, 5]\n",
    "print(num1)\n",
    "print(num2)\n",
    "print(num3)"
   ]
  },
  {
   "cell_type": "code",
   "execution_count": 10,
   "metadata": {},
   "outputs": [
    {
     "name": "stdout",
     "output_type": "stream",
     "text": [
      "1\n",
      "2\n",
      "3\n"
     ]
    }
   ],
   "source": [
    "num1, num2, num3 = [1, 2, 3]\n",
    "print(num1)\n",
    "print(num2)\n",
    "print(num3)"
   ]
  },
  {
   "cell_type": "code",
   "execution_count": null,
   "metadata": {},
   "outputs": [],
   "source": []
  },
  {
   "attachments": {},
   "cell_type": "markdown",
   "metadata": {},
   "source": [
    "## 10. Control Flow\n",
    "- ### IF"
   ]
  },
  {
   "cell_type": "code",
   "execution_count": null,
   "metadata": {},
   "outputs": [],
   "source": []
  },
  {
   "attachments": {},
   "cell_type": "markdown",
   "metadata": {},
   "source": [
    "- ### ELSE"
   ]
  },
  {
   "cell_type": "code",
   "execution_count": null,
   "metadata": {},
   "outputs": [],
   "source": []
  },
  {
   "attachments": {},
   "cell_type": "markdown",
   "metadata": {},
   "source": [
    "- ### ELIF"
   ]
  },
  {
   "cell_type": "code",
   "execution_count": null,
   "metadata": {},
   "outputs": [],
   "source": []
  },
  {
   "attachments": {},
   "cell_type": "markdown",
   "metadata": {},
   "source": [
    "- ### Shorthand If Else"
   ]
  },
  {
   "cell_type": "code",
   "execution_count": null,
   "metadata": {},
   "outputs": [],
   "source": []
  },
  {
   "attachments": {},
   "cell_type": "markdown",
   "metadata": {},
   "source": [
    "## 11. Loops\n",
    "- ### FOR loop"
   ]
  },
  {
   "cell_type": "code",
   "execution_count": null,
   "metadata": {},
   "outputs": [],
   "source": []
  },
  {
   "attachments": {},
   "cell_type": "markdown",
   "metadata": {},
   "source": [
    "- ### WHILE loop"
   ]
  },
  {
   "cell_type": "code",
   "execution_count": null,
   "metadata": {},
   "outputs": [],
   "source": []
  },
  {
   "attachments": {},
   "cell_type": "markdown",
   "metadata": {},
   "source": [
    "# Upcoming class\n",
    "- ## List Comprehension\n",
    "- ## Functions\n",
    "- ## Lambda Functions\n",
    "- ## OOPs concepts"
   ]
  }
 ],
 "metadata": {
  "kernelspec": {
   "display_name": "base",
   "language": "python",
   "name": "python3"
  },
  "language_info": {
   "codemirror_mode": {
    "name": "ipython",
    "version": 3
   },
   "file_extension": ".py",
   "mimetype": "text/x-python",
   "name": "python",
   "nbconvert_exporter": "python",
   "pygments_lexer": "ipython3",
   "version": "3.9.13"
  },
  "orig_nbformat": 4
 },
 "nbformat": 4,
 "nbformat_minor": 2
}

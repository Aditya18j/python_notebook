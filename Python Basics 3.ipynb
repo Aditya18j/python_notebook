{
 "cells": [
  {
   "attachments": {},
   "cell_type": "markdown",
   "metadata": {},
   "source": [
    "## 13. Functions\n",
    "- ### Defining a function"
   ]
  },
  {
   "cell_type": "code",
   "execution_count": 3,
   "metadata": {},
   "outputs": [
    {
     "name": "stdout",
     "output_type": "stream",
     "text": [
      "the number is Odd\n",
      "the Number is even\n"
     ]
    }
   ],
   "source": [
    "# num = 5\n",
    "def checker(num):\n",
    "    if num % 2 == 0:\n",
    "        print(\"the Number is even\")\n",
    "    else:\n",
    "        print(\"the number is Odd\")\n",
    "\n",
    "checker(5)\n",
    "checker(6)\n"
   ]
  },
  {
   "attachments": {},
   "cell_type": "markdown",
   "metadata": {},
   "source": [
    "- ### Paramters & Arguments"
   ]
  },
  {
   "cell_type": "code",
   "execution_count": 5,
   "metadata": {},
   "outputs": [],
   "source": [
    "# parameter (when we define a function parameter is passed)\n",
    "# Arguments (when we call function at that time argumnet is passed)\n",
    "\n",
    "\n",
    "def sumPrinter(num_array):\n",
    "    sum = 0\n",
    "    for i in num_array:\n",
    "        sum += i\n",
    "    print(sum)\n",
    "\n",
    "myArr = [2,4,6,8]\n",
    "sumPrinter([1,3,5])\n",
    "sumPrinter(myArr)\n",
    "\n"
   ]
  },
  {
   "cell_type": "code",
   "execution_count": null,
   "metadata": {},
   "outputs": [],
   "source": [
    "def multiply(a,b,c):\n",
    "    print(a*b*c)\n",
    "\n",
    "multiply(1,2,3)\n",
    "multiply(1,2)\n",
    "multiply(1,2,3,4)"
   ]
  },
  {
   "attachments": {},
   "cell_type": "markdown",
   "metadata": {},
   "source": [
    "- ### Default Parameters"
   ]
  },
  {
   "cell_type": "code",
   "execution_count": 6,
   "metadata": {},
   "outputs": [
    {
     "name": "stdout",
     "output_type": "stream",
     "text": [
      "I Live at 10, 18th Main, Kota, Delhi, INDIA\n"
     ]
    }
   ],
   "source": [
    "def printAddress(doorNum, street, city, state, country=\"INDIA\"):\n",
    "    print(f\"I Live at {doorNum}, {street}, {city}, {state}, {country}\")\n",
    "\n",
    "printAddress(10, \"18th Main\", \"Kota\", \"Delhi\")\n",
    "printAddress(10, \"18th Main\", \"Kota\", \"Delhi\", \"USA\")\n",
    "printAddress(\"18th Main\", \"Kota\", \"Delhi\", \"USA\")\n",
    "\n"
   ]
  },
  {
   "attachments": {},
   "cell_type": "markdown",
   "metadata": {},
   "source": [
    "- ### `return`"
   ]
  },
  {
   "cell_type": "code",
   "execution_count": 9,
   "metadata": {},
   "outputs": [
    {
     "name": "stdout",
     "output_type": "stream",
     "text": [
      "6\n"
     ]
    }
   ],
   "source": [
    "# val = multiply(1,2,3)\n",
    "# print(val)\n",
    "\n",
    "def multi(a,b,c):\n",
    "    return a*b*c\n",
    "\n",
    "def multi2(a,b,c):\n",
    "    result = a*b*c\n",
    "    return result\n",
    "\n",
    "cal = multi(1,2,3)\n",
    "print(cal)"
   ]
  },
  {
   "attachments": {},
   "cell_type": "markdown",
   "metadata": {},
   "source": [
    "- ### Scope"
   ]
  },
  {
   "cell_type": "code",
   "execution_count": null,
   "metadata": {},
   "outputs": [],
   "source": []
  },
  {
   "cell_type": "code",
   "execution_count": 14,
   "metadata": {},
   "outputs": [],
   "source": [
    "# try and execption\n",
    "\n",
    "def dividebyzero(num):\n",
    "    return num/0\n",
    "# dividebyzero(5)\n",
    "# print(\"executed Please\")\n"
   ]
  },
  {
   "cell_type": "code",
   "execution_count": 16,
   "metadata": {},
   "outputs": [
    {
     "ename": "SyntaxError",
     "evalue": "default 'except:' must be last (337623183.py, line 2)",
     "output_type": "error",
     "traceback": [
      "\u001b[1;36m  Cell \u001b[1;32mIn[16], line 2\u001b[1;36m\u001b[0m\n\u001b[1;33m    dividebyzero(5)\u001b[0m\n\u001b[1;37m    ^\u001b[0m\n\u001b[1;31mSyntaxError\u001b[0m\u001b[1;31m:\u001b[0m default 'except:' must be last\n"
     ]
    }
   ],
   "source": [
    "try:\n",
    "    dividebyzero(5)\n",
    "except:\n",
    "    print(\"Hey\")\n"
   ]
  },
  {
   "cell_type": "code",
   "execution_count": 18,
   "metadata": {},
   "outputs": [
    {
     "name": "stdout",
     "output_type": "stream",
     "text": [
      "name 'notedefine' is not defined\n",
      "This is Final Call\n"
     ]
    }
   ],
   "source": [
    "try:\n",
    "    # dividebyzero(2)\n",
    "     notedefine += 1\n",
    "    # print('Hello')\n",
    "except ZeroDivisionError:\n",
    "    print(\"wrong\")\n",
    "except Exception as e:\n",
    "    print(e)\n",
    "finally:\n",
    "    print(\"This is Final Call\")"
   ]
  },
  {
   "cell_type": "code",
   "execution_count": 36,
   "metadata": {},
   "outputs": [
    {
     "name": "stdout",
     "output_type": "stream",
     "text": [
      "5\n",
      "2\n"
     ]
    }
   ],
   "source": [
    "import math as m\n",
    "\n",
    "num = 5.66\n",
    "print(m.floor(num))\n",
    "print(m.factorial(2))"
   ]
  },
  {
   "cell_type": "code",
   "execution_count": 37,
   "metadata": {},
   "outputs": [
    {
     "name": "stdout",
     "output_type": "stream",
     "text": [
      "6\n",
      "120\n"
     ]
    }
   ],
   "source": [
    "from math import floor, factorial\n",
    "\n",
    "num = 6.55\n",
    "print(floor(num))\n",
    "print(factorial(5))"
   ]
  },
  {
   "cell_type": "code",
   "execution_count": 39,
   "metadata": {},
   "outputs": [
    {
     "data": {
      "text/plain": [
       "120"
      ]
     },
     "execution_count": 39,
     "metadata": {},
     "output_type": "execute_result"
    }
   ],
   "source": [
    "def factorial(num):\n",
    "    try:\n",
    "        if num<0:\n",
    "            raise Exception ('No Negative Number')\n",
    "        if num ==0 or num ==1:\n",
    "            return 1\n",
    "        else:\n",
    "            return num * factorial(num-1)\n",
    "    except Exception as e:\n",
    "        print(e)\n",
    "\n",
    "factorial(5)"
   ]
  },
  {
   "attachments": {},
   "cell_type": "markdown",
   "metadata": {},
   "source": [
    "# OOPS Concepts\n",
    "## 1. Objects\n",
    "An entity that has state and behavior is known as an object e.g., chair, bike, marker, pen, table, car, etc. It can be physical or logical.<br>\n",
    "An object has three characteristics:<br>\n",
    "- **State**: represents the data (value) of an object.<br>\n",
    "- **Behavior**: represents the behavior (functionality) of an object such as deposit, withdraw, etc.<br>\n",
    "- **Identity**: An object identity is typically implemented via a unique ID. The value of the ID is not visible to the external user. However, it is used internally by the JVM to identify each object uniquely.<br><br>\n",
    "## 2. Class\n",
    "A class is a collection of objects. A class contains the blueprints or the prototype from which the objects are being created. It is a logical entity that contains some attributes and methods. <br>\n",
    "- ### Writing a Class\n",
    "\n"
   ]
  },
  {
   "cell_type": "code",
   "execution_count": 42,
   "metadata": {},
   "outputs": [
    {
     "name": "stdout",
     "output_type": "stream",
     "text": [
      "0 True 0\n",
      "2\n"
     ]
    }
   ],
   "source": [
    "class Vechile:\n",
    "    tyres = 0\n",
    "    engine = True\n",
    "    windows = 0\n",
    "\n",
    "myVechile = Vechile()\n",
    "type(myVechile)\n",
    "print(myVechile.tyres,\n",
    "      myVechile.engine,\n",
    "      myVechile.windows)\n",
    "\n",
    "myVechile.tyres = 2\n",
    "print(myVechile.tyres)"
   ]
  },
  {
   "cell_type": "markdown",
   "metadata": {},
   "source": [
    "- ### Declaring a function"
   ]
  },
  {
   "cell_type": "code",
   "execution_count": 45,
   "metadata": {},
   "outputs": [
    {
     "name": "stdout",
     "output_type": "stream",
     "text": [
      "False\n",
      "True\n",
      "False\n"
     ]
    }
   ],
   "source": [
    "class Vechile:\n",
    "    tyres = 0\n",
    "    engine = True\n",
    "    windows = 0\n",
    "    moving = False\n",
    "\n",
    "    def move(self):\n",
    "        self.moving = True\n",
    "\n",
    "    def stop(self):\n",
    "        self.moving = False\n",
    "    \n",
    "\n",
    "myVechile = Vechile()\n",
    "print(myVechile.moving)\n",
    "myVechile.move()\n",
    "print(myVechile.moving)\n",
    "myVechile.stop()\n",
    "print(myVechile.moving)\n"
   ]
  },
  {
   "cell_type": "code",
   "execution_count": 50,
   "metadata": {},
   "outputs": [
    {
     "name": "stdout",
     "output_type": "stream",
     "text": [
      "0\n"
     ]
    }
   ],
   "source": [
    "print(myVechile.tyres)\n",
    "Vechile.move(myVechile)\n"
   ]
  },
  {
   "attachments": {},
   "cell_type": "markdown",
   "metadata": {},
   "source": [
    "- ### `__init__(self)` function"
   ]
  },
  {
   "cell_type": "code",
   "execution_count": 67,
   "metadata": {},
   "outputs": [
    {
     "ename": "AttributeError",
     "evalue": "'TwoVechile' object has no attribute 'tyre'",
     "output_type": "error",
     "traceback": [
      "\u001b[1;31m---------------------------------------------------------------------------\u001b[0m",
      "\u001b[1;31mAttributeError\u001b[0m                            Traceback (most recent call last)",
      "Cell \u001b[1;32mIn[67], line 10\u001b[0m\n\u001b[0;32m      6\u001b[0m         \u001b[38;5;28mself\u001b[39m\u001b[38;5;241m.\u001b[39mwindow \u001b[38;5;241m=\u001b[39m \u001b[38;5;241m0\u001b[39m\n\u001b[0;32m      9\u001b[0m my_wheeler \u001b[38;5;241m=\u001b[39m TwoVechile()\n\u001b[1;32m---> 10\u001b[0m \u001b[38;5;28mprint\u001b[39m(\u001b[43mmy_wheeler\u001b[49m\u001b[38;5;241;43m.\u001b[39;49m\u001b[43mtyre\u001b[49m, my_wheeler\u001b[38;5;241m.\u001b[39mengines, my_wheeler\u001b[38;5;241m.\u001b[39mwindow)\n",
      "\u001b[1;31mAttributeError\u001b[0m: 'TwoVechile' object has no attribute 'tyre'"
     ]
    }
   ],
   "source": [
    "class TwoVechile:\n",
    "    \n",
    "    def _init_(self):\n",
    "        self.tyre = 2\n",
    "        self.engines = True\n",
    "        self.window = 0\n",
    "\n",
    "\n",
    "my_wheeler = TwoVechile()\n",
    "print(my_wheeler.tyre, my_wheeler.engines, my_wheeler.window)\n",
    "\n",
    "    "
   ]
  },
  {
   "attachments": {},
   "cell_type": "markdown",
   "metadata": {},
   "source": [
    "- ### Class Methods"
   ]
  },
  {
   "cell_type": "code",
   "execution_count": 68,
   "metadata": {},
   "outputs": [
    {
     "ename": "AttributeError",
     "evalue": "'TwoVechile' object has no attribute 'tyres'",
     "output_type": "error",
     "traceback": [
      "\u001b[1;31m---------------------------------------------------------------------------\u001b[0m",
      "\u001b[1;31mAttributeError\u001b[0m                            Traceback (most recent call last)",
      "Cell \u001b[1;32mIn[68], line 14\u001b[0m\n\u001b[0;32m     10\u001b[0m         \u001b[38;5;28mself\u001b[39m\u001b[38;5;241m.\u001b[39mmoving \u001b[38;5;241m=\u001b[39m \u001b[38;5;28;01mTrue\u001b[39;00m\n\u001b[0;32m     13\u001b[0m my_2_wheeler \u001b[38;5;241m=\u001b[39m TwoVechile()\n\u001b[1;32m---> 14\u001b[0m \u001b[38;5;28mprint\u001b[39m(\u001b[43mmy_2_wheeler\u001b[49m\u001b[38;5;241;43m.\u001b[39;49m\u001b[43mtyres\u001b[49m, my_2_wheeler\u001b[38;5;241m.\u001b[39mengine, my_2_wheeler\u001b[38;5;241m.\u001b[39mwindows, my_2_wheeler\u001b[38;5;241m.\u001b[39mmoving)\n",
      "\u001b[1;31mAttributeError\u001b[0m: 'TwoVechile' object has no attribute 'tyres'"
     ]
    }
   ],
   "source": [
    "class TwoVechile:\n",
    "    \n",
    "    def _init_(self):\n",
    "        self.tyres = 2\n",
    "        self.engine = True\n",
    "        self.windows = 0\n",
    "        self.move()\n",
    "\n",
    "    def move(self):\n",
    "        self.moving = True\n",
    "\n",
    "\n",
    "my_2_wheeler = TwoVechile()\n",
    "print(my_2_wheeler.tyres, my_2_wheeler.engine, my_2_wheeler.windows, my_2_wheeler.moving)\n"
   ]
  },
  {
   "cell_type": "code",
   "execution_count": 84,
   "metadata": {},
   "outputs": [
    {
     "ename": "TypeError",
     "evalue": "CustomVechile() takes no arguments",
     "output_type": "error",
     "traceback": [
      "\u001b[1;31m---------------------------------------------------------------------------\u001b[0m",
      "\u001b[1;31mTypeError\u001b[0m                                 Traceback (most recent call last)",
      "Cell \u001b[1;32mIn[84], line 8\u001b[0m\n\u001b[0;32m      4\u001b[0m         \u001b[38;5;28mself\u001b[39m\u001b[38;5;241m.\u001b[39mengine \u001b[38;5;241m=\u001b[39m engines\n\u001b[0;32m      5\u001b[0m         \u001b[38;5;28mself\u001b[39m\u001b[38;5;241m.\u001b[39mwindows \u001b[38;5;241m=\u001b[39m window\n\u001b[1;32m----> 8\u001b[0m my_custom \u001b[38;5;241m=\u001b[39m \u001b[43mCustomVechile\u001b[49m\u001b[43m(\u001b[49m\u001b[38;5;241;43m8\u001b[39;49m\u001b[43m,\u001b[49m\u001b[43m \u001b[49m\u001b[38;5;28;43;01mFalse\u001b[39;49;00m\u001b[43m,\u001b[49m\u001b[43m \u001b[49m\u001b[38;5;241;43m4\u001b[39;49m\u001b[43m)\u001b[49m\n\u001b[0;32m      9\u001b[0m \u001b[38;5;28mprint\u001b[39m(my_custom)\n",
      "\u001b[1;31mTypeError\u001b[0m: CustomVechile() takes no arguments"
     ]
    }
   ],
   "source": [
    "class CustomVechile:\n",
    "    def _init_(self, wheels=100, engines = True, window=None):\n",
    "        self.tyres = wheels\n",
    "        self.engine = engines\n",
    "        self.windows = window\n",
    "    \n",
    "\n",
    "my_custom = CustomVechile(8, False, 4)\n",
    "print(my_custom)"
   ]
  },
  {
   "attachments": {},
   "cell_type": "markdown",
   "metadata": {},
   "source": [
    "## 3. Inheritance\n",
    "**Inheritance** is the capability of one class to derive or inherit the properties from another class. The class that derives properties is called the derived class or child class and the class from which the properties are being derived is called the base class or parent class.<br>\n",
    "The benefits of inheritance are: <br>\n",
    "- It represents real-world relationships well.\n",
    "- It provides the reusability of a code. We don’t have to write the same code again and again. Also, it allows us to add more features to a class without modifying it.\n",
    "- It is transitive in nature, which means that if class B inherits from another class A, then all the subclasses of B would automatically inherit from class A.<br>\n",
    "\n",
    "### Types of Inheritance <br>\n",
    "**Single Inheritance**:\n",
    "Single-level inheritance enables a derived class to inherit characteristics from a single-parent class.\n",
    "\n",
    "**Multilevel Inheritance**:\n",
    "Multi-level inheritance enables a derived class to inherit properties from an immediate parent class which in turn inherits properties from his parent class.\n",
    "\n",
    "**Hierarchical Inheritance**:\n",
    "Hierarchical level inheritance enables more than one derived class to inherit properties from a parent class.\n",
    "\n",
    "**Multiple Inheritance**:\n",
    "Multiple level inheritance enables one derived class to inherit properties from more than one base class.\n",
    "\n",
    "\n",
    "- ### Class Inheritance"
   ]
  },
  {
   "cell_type": "code",
   "execution_count": 86,
   "metadata": {},
   "outputs": [
    {
     "ename": "AttributeError",
     "evalue": "'Car' object has no attribute 'tyres'",
     "output_type": "error",
     "traceback": [
      "\u001b[1;31m---------------------------------------------------------------------------\u001b[0m",
      "\u001b[1;31mAttributeError\u001b[0m                            Traceback (most recent call last)",
      "Cell \u001b[1;32mIn[86], line 19\u001b[0m\n\u001b[0;32m     15\u001b[0m         \u001b[38;5;28mprint\u001b[39m(\u001b[38;5;28mself\u001b[39m\u001b[38;5;241m.\u001b[39mwindows)\n\u001b[0;32m     18\u001b[0m my_car \u001b[38;5;241m=\u001b[39m Car()\n\u001b[1;32m---> 19\u001b[0m \u001b[43mmy_car\u001b[49m\u001b[38;5;241;43m.\u001b[39;49m\u001b[43mshow_properties\u001b[49m\u001b[43m(\u001b[49m\u001b[43m)\u001b[49m\n\u001b[0;32m     20\u001b[0m my_car\u001b[38;5;241m.\u001b[39mmove()\n\u001b[0;32m     21\u001b[0m \u001b[38;5;28mprint\u001b[39m(\u001b[38;5;124m\"\u001b[39m\u001b[38;5;124mis_moving\u001b[39m\u001b[38;5;124m\"\u001b[39m, my_car\u001b[38;5;241m.\u001b[39mmoving )\n",
      "Cell \u001b[1;32mIn[86], line 13\u001b[0m, in \u001b[0;36mCar.show_properties\u001b[1;34m(self)\u001b[0m\n\u001b[0;32m     12\u001b[0m \u001b[38;5;28;01mdef\u001b[39;00m \u001b[38;5;21mshow_properties\u001b[39m(\u001b[38;5;28mself\u001b[39m):\n\u001b[1;32m---> 13\u001b[0m     \u001b[38;5;28mprint\u001b[39m(\u001b[38;5;28;43mself\u001b[39;49m\u001b[38;5;241;43m.\u001b[39;49m\u001b[43mtyres\u001b[49m)\n\u001b[0;32m     14\u001b[0m     \u001b[38;5;28mprint\u001b[39m(\u001b[38;5;28mself\u001b[39m\u001b[38;5;241m.\u001b[39mengine)\n\u001b[0;32m     15\u001b[0m     \u001b[38;5;28mprint\u001b[39m(\u001b[38;5;28mself\u001b[39m\u001b[38;5;241m.\u001b[39mwindows)\n",
      "\u001b[1;31mAttributeError\u001b[0m: 'Car' object has no attribute 'tyres'"
     ]
    }
   ],
   "source": [
    "class CustomVechile:\n",
    "    def _init_(self, wheels=100, engines = True, window=None):\n",
    "        self.tyres = wheels\n",
    "        self.engine = engines\n",
    "        self.windows = window\n",
    "\n",
    "    def move(self):\n",
    "        self.moving = True\n",
    "    \n",
    "\n",
    "class Car(CustomVechile):\n",
    "    def show_properties(self):\n",
    "        print(self.tyres)\n",
    "        print(self.engine)\n",
    "        print(self.windows)\n",
    "\n",
    "\n",
    "my_car = Car()\n",
    "my_car.show_properties()\n",
    "my_car.move()\n",
    "print(\"is_moving\", my_car.moving )\n",
    "\n"
   ]
  },
  {
   "cell_type": "markdown",
   "metadata": {},
   "source": [
    "- ### `super()` function"
   ]
  },
  {
   "cell_type": "code",
   "execution_count": null,
   "metadata": {},
   "outputs": [],
   "source": [
    "class CustomVechile:\n",
    "    def _init_(self, wheels=100, engines = True, window=None):\n",
    "        self.tyres = wheels\n",
    "        self.engine = engines\n",
    "        self.windows = window\n",
    "\n",
    "    def move(self):\n",
    "        self.moving = True\n",
    "    \n",
    "\n",
    "class Car(CustomVechile):\n",
    "    def _init_(self, wheels=100, engines=True, window=None):\n",
    "        return super()._init_(wheels, engines, window)\n",
    "    \n",
    "    def show_properties(self):\n",
    "        print(self.tyres)\n",
    "        print(self.engine)\n",
    "        print(self.windows)"
   ]
  },
  {
   "cell_type": "markdown",
   "metadata": {},
   "source": [
    "- ### Adding more parameters to child class"
   ]
  },
  {
   "cell_type": "code",
   "execution_count": null,
   "metadata": {},
   "outputs": [],
   "source": []
  },
  {
   "attachments": {},
   "cell_type": "markdown",
   "metadata": {},
   "source": [
    "## 4. Polymorphism\n",
    "**Polymorphism**  refers to the use of a single type entity (method, operator or object) to represent different types in different scenarios. <br>\n",
    "*poly*: many, *moprhism*: form <br>\n",
    "***Example***: the `+` operator can be used on both int and string data types. <br>\n",
    "Similarly `len()` can be used on strings and data structures.<br>\n",
    "*Python does not support function overloading.*<br>\n",
    "### Implementing polymorphism with inherited classes"
   ]
  },
  {
   "cell_type": "code",
   "execution_count": null,
   "metadata": {},
   "outputs": [],
   "source": []
  },
  {
   "attachments": {},
   "cell_type": "markdown",
   "metadata": {},
   "source": [
    "## 5. Abstraction\n",
    "**Abstraction** in Programming is about hiding unwanted details while showing most essential information. <br>\n",
    "Eg: The `range()` function gives us a list of numbers but we are not aware of its implementation or underlying code.<br><br>\n",
    "### Using `__` to hide variables"
   ]
  },
  {
   "cell_type": "code",
   "execution_count": null,
   "metadata": {},
   "outputs": [],
   "source": []
  },
  {
   "attachments": {},
   "cell_type": "markdown",
   "metadata": {},
   "source": [
    "## 6. Encapsulation\n",
    "**Encapsulation** describes the idea of wrapping data and the methods that work on data within one unit. This puts restrictions on accessing variables and methods directly and can prevent the accidental modification of data. To prevent accidental change, an object’s variable can only be changed by an object’s method. <br><br>\n",
    "### Using `__`, getters, setters for encapsulation."
   ]
  },
  {
   "cell_type": "code",
   "execution_count": null,
   "metadata": {},
   "outputs": [],
   "source": []
  }
 ],
 "metadata": {
  "kernelspec": {
   "display_name": "Python 3",
   "language": "python",
   "name": "python3"
  },
  "language_info": {
   "codemirror_mode": {
    "name": "ipython",
    "version": 3
   },
   "file_extension": ".py",
   "mimetype": "text/x-python",
   "name": "python",
   "nbconvert_exporter": "python",
   "pygments_lexer": "ipython3",
   "version": "3.9.13"
  },
  "orig_nbformat": 4
 },
 "nbformat": 4,
 "nbformat_minor": 2
}
